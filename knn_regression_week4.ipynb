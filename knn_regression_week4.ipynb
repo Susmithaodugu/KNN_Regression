{
 "cells": [
  {
   "cell_type": "markdown",
   "id": "16838087",
   "metadata": {},
   "source": [
    "## Problem Statement:"
   ]
  },
  {
   "cell_type": "markdown",
   "id": "3fb388b8",
   "metadata": {},
   "source": [
    "A Gold shop owner wants to know the price of the Diamond from it's characteristic such as carat, cut,clarity, color, length, width, height, table length, depth of the diamond. Now, I took a dataset which has all the above mentioned and wants to predict the price of the diamond. The dataset contains the price of the diamonds with respective of the characteristics. "
   ]
  },
  {
   "cell_type": "markdown",
   "id": "47f0e10d",
   "metadata": {},
   "source": [
    "The colomns represents:"
   ]
  },
  {
   "cell_type": "markdown",
   "id": "5ed660cc",
   "metadata": {},
   "source": [
    "carat-weight of the diamond (0.2--5.01)"
   ]
  },
  {
   "cell_type": "markdown",
   "id": "9a9f9536",
   "metadata": {},
   "source": [
    "cut-quality of the cut (Fair, Good, Very Good, Premium, Ideal)"
   ]
  },
  {
   "cell_type": "markdown",
   "id": "5356e202",
   "metadata": {},
   "source": [
    "color-diamond colour, from J (worst) to D (best)\n"
   ]
  },
  {
   "cell_type": "markdown",
   "id": "b1296a42",
   "metadata": {},
   "source": [
    "clarity-a measurement of how clear the diamond is (I1 (worst), SI2, SI1, VS2, VS1, VVS2, VVS1, IF (best))"
   ]
  },
  {
   "cell_type": "markdown",
   "id": "1b8a4517",
   "metadata": {},
   "source": [
    "x-length in mm (0--10.74)\n"
   ]
  },
  {
   "cell_type": "markdown",
   "id": "f04189f2",
   "metadata": {},
   "source": [
    "y-width in mm (0--58.9)\n"
   ]
  },
  {
   "cell_type": "markdown",
   "id": "6bb2d38f",
   "metadata": {},
   "source": [
    "z-depth in mm (0--31.8)\n"
   ]
  },
  {
   "cell_type": "markdown",
   "id": "cb5b6828",
   "metadata": {},
   "source": [
    "depth-total depth percentage = z / mean(x, y) = 2 * z / (x + y) (43--79)\n"
   ]
  },
  {
   "cell_type": "markdown",
   "id": "3c563d6e",
   "metadata": {},
   "source": [
    "table-width of top of diamond relative to widest point (43--95)"
   ]
  },
  {
   "cell_type": "markdown",
   "id": "5714cfb2",
   "metadata": {},
   "source": [
    "price-price in US dollars (\\$326--\\$18,823)"
   ]
  },
  {
   "cell_type": "markdown",
   "id": "24c0fca3",
   "metadata": {},
   "source": [
    "Importing libraries"
   ]
  },
  {
   "cell_type": "code",
   "execution_count": 1,
   "id": "7e5933ca",
   "metadata": {},
   "outputs": [],
   "source": [
    "import numpy as np\n",
    "import pandas as pd\n",
    "import matplotlib.pyplot as plt\n",
    "import seaborn as sns\n",
    "%matplotlib inline"
   ]
  },
  {
   "cell_type": "markdown",
   "id": "de98d092",
   "metadata": {},
   "source": [
    "Reading data using panndas"
   ]
  },
  {
   "cell_type": "code",
   "execution_count": 2,
   "id": "8c06c3fc",
   "metadata": {},
   "outputs": [],
   "source": [
    "data = pd.read_csv(\"diamonds.csv\")"
   ]
  },
  {
   "cell_type": "markdown",
   "id": "9fed1389",
   "metadata": {},
   "source": [
    "Firstly, I want to work on small data so I'm slicing the data and working on first 200 rows."
   ]
  },
  {
   "cell_type": "code",
   "execution_count": 3,
   "id": "39c0bccd",
   "metadata": {},
   "outputs": [],
   "source": [
    "data = data[:200]"
   ]
  },
  {
   "cell_type": "markdown",
   "id": "79952bb5",
   "metadata": {},
   "source": [
    "Data Insight"
   ]
  },
  {
   "cell_type": "code",
   "execution_count": 4,
   "id": "35851717",
   "metadata": {},
   "outputs": [
    {
     "data": {
      "text/html": [
       "<div>\n",
       "<style scoped>\n",
       "    .dataframe tbody tr th:only-of-type {\n",
       "        vertical-align: middle;\n",
       "    }\n",
       "\n",
       "    .dataframe tbody tr th {\n",
       "        vertical-align: top;\n",
       "    }\n",
       "\n",
       "    .dataframe thead th {\n",
       "        text-align: right;\n",
       "    }\n",
       "</style>\n",
       "<table border=\"1\" class=\"dataframe\">\n",
       "  <thead>\n",
       "    <tr style=\"text-align: right;\">\n",
       "      <th></th>\n",
       "      <th>ID</th>\n",
       "      <th>carat</th>\n",
       "      <th>cut</th>\n",
       "      <th>color</th>\n",
       "      <th>clarity</th>\n",
       "      <th>depth</th>\n",
       "      <th>table</th>\n",
       "      <th>price</th>\n",
       "      <th>x</th>\n",
       "      <th>y</th>\n",
       "      <th>z</th>\n",
       "    </tr>\n",
       "  </thead>\n",
       "  <tbody>\n",
       "    <tr>\n",
       "      <th>0</th>\n",
       "      <td>1</td>\n",
       "      <td>0.23</td>\n",
       "      <td>Ideal</td>\n",
       "      <td>E</td>\n",
       "      <td>SI2</td>\n",
       "      <td>61.5</td>\n",
       "      <td>55.0</td>\n",
       "      <td>326</td>\n",
       "      <td>3.95</td>\n",
       "      <td>3.98</td>\n",
       "      <td>2.43</td>\n",
       "    </tr>\n",
       "    <tr>\n",
       "      <th>1</th>\n",
       "      <td>2</td>\n",
       "      <td>0.21</td>\n",
       "      <td>Premium</td>\n",
       "      <td>E</td>\n",
       "      <td>SI1</td>\n",
       "      <td>59.8</td>\n",
       "      <td>61.0</td>\n",
       "      <td>326</td>\n",
       "      <td>3.89</td>\n",
       "      <td>3.84</td>\n",
       "      <td>2.31</td>\n",
       "    </tr>\n",
       "    <tr>\n",
       "      <th>2</th>\n",
       "      <td>3</td>\n",
       "      <td>0.23</td>\n",
       "      <td>Good</td>\n",
       "      <td>E</td>\n",
       "      <td>VS1</td>\n",
       "      <td>56.9</td>\n",
       "      <td>65.0</td>\n",
       "      <td>327</td>\n",
       "      <td>4.05</td>\n",
       "      <td>4.07</td>\n",
       "      <td>2.31</td>\n",
       "    </tr>\n",
       "    <tr>\n",
       "      <th>3</th>\n",
       "      <td>4</td>\n",
       "      <td>0.29</td>\n",
       "      <td>Premium</td>\n",
       "      <td>I</td>\n",
       "      <td>VS2</td>\n",
       "      <td>62.4</td>\n",
       "      <td>58.0</td>\n",
       "      <td>334</td>\n",
       "      <td>4.20</td>\n",
       "      <td>4.23</td>\n",
       "      <td>2.63</td>\n",
       "    </tr>\n",
       "    <tr>\n",
       "      <th>4</th>\n",
       "      <td>5</td>\n",
       "      <td>0.31</td>\n",
       "      <td>Good</td>\n",
       "      <td>J</td>\n",
       "      <td>SI2</td>\n",
       "      <td>63.3</td>\n",
       "      <td>58.0</td>\n",
       "      <td>335</td>\n",
       "      <td>4.34</td>\n",
       "      <td>4.35</td>\n",
       "      <td>2.75</td>\n",
       "    </tr>\n",
       "  </tbody>\n",
       "</table>\n",
       "</div>"
      ],
      "text/plain": [
       "   ID  carat      cut color clarity  depth  table  price     x     y     z\n",
       "0   1   0.23    Ideal     E     SI2   61.5   55.0    326  3.95  3.98  2.43\n",
       "1   2   0.21  Premium     E     SI1   59.8   61.0    326  3.89  3.84  2.31\n",
       "2   3   0.23     Good     E     VS1   56.9   65.0    327  4.05  4.07  2.31\n",
       "3   4   0.29  Premium     I     VS2   62.4   58.0    334  4.20  4.23  2.63\n",
       "4   5   0.31     Good     J     SI2   63.3   58.0    335  4.34  4.35  2.75"
      ]
     },
     "execution_count": 4,
     "metadata": {},
     "output_type": "execute_result"
    }
   ],
   "source": [
    "data.head()"
   ]
  },
  {
   "cell_type": "code",
   "execution_count": 5,
   "id": "483b27f6",
   "metadata": {},
   "outputs": [
    {
     "data": {
      "text/html": [
       "<div>\n",
       "<style scoped>\n",
       "    .dataframe tbody tr th:only-of-type {\n",
       "        vertical-align: middle;\n",
       "    }\n",
       "\n",
       "    .dataframe tbody tr th {\n",
       "        vertical-align: top;\n",
       "    }\n",
       "\n",
       "    .dataframe thead th {\n",
       "        text-align: right;\n",
       "    }\n",
       "</style>\n",
       "<table border=\"1\" class=\"dataframe\">\n",
       "  <thead>\n",
       "    <tr style=\"text-align: right;\">\n",
       "      <th></th>\n",
       "      <th>ID</th>\n",
       "      <th>carat</th>\n",
       "      <th>cut</th>\n",
       "      <th>color</th>\n",
       "      <th>clarity</th>\n",
       "      <th>depth</th>\n",
       "      <th>table</th>\n",
       "      <th>price</th>\n",
       "      <th>x</th>\n",
       "      <th>y</th>\n",
       "      <th>z</th>\n",
       "    </tr>\n",
       "  </thead>\n",
       "  <tbody>\n",
       "    <tr>\n",
       "      <th>195</th>\n",
       "      <td>196</td>\n",
       "      <td>0.70</td>\n",
       "      <td>Premium</td>\n",
       "      <td>E</td>\n",
       "      <td>SI1</td>\n",
       "      <td>62.7</td>\n",
       "      <td>59.0</td>\n",
       "      <td>2777</td>\n",
       "      <td>5.67</td>\n",
       "      <td>5.63</td>\n",
       "      <td>3.54</td>\n",
       "    </tr>\n",
       "    <tr>\n",
       "      <th>196</th>\n",
       "      <td>197</td>\n",
       "      <td>0.70</td>\n",
       "      <td>Premium</td>\n",
       "      <td>E</td>\n",
       "      <td>SI1</td>\n",
       "      <td>61.0</td>\n",
       "      <td>57.0</td>\n",
       "      <td>2777</td>\n",
       "      <td>5.73</td>\n",
       "      <td>5.68</td>\n",
       "      <td>3.48</td>\n",
       "    </tr>\n",
       "    <tr>\n",
       "      <th>197</th>\n",
       "      <td>198</td>\n",
       "      <td>0.70</td>\n",
       "      <td>Premium</td>\n",
       "      <td>E</td>\n",
       "      <td>SI1</td>\n",
       "      <td>61.0</td>\n",
       "      <td>58.0</td>\n",
       "      <td>2777</td>\n",
       "      <td>5.78</td>\n",
       "      <td>5.72</td>\n",
       "      <td>3.51</td>\n",
       "    </tr>\n",
       "    <tr>\n",
       "      <th>198</th>\n",
       "      <td>199</td>\n",
       "      <td>0.70</td>\n",
       "      <td>Ideal</td>\n",
       "      <td>E</td>\n",
       "      <td>SI1</td>\n",
       "      <td>61.4</td>\n",
       "      <td>57.0</td>\n",
       "      <td>2777</td>\n",
       "      <td>5.76</td>\n",
       "      <td>5.70</td>\n",
       "      <td>3.52</td>\n",
       "    </tr>\n",
       "    <tr>\n",
       "      <th>199</th>\n",
       "      <td>200</td>\n",
       "      <td>0.72</td>\n",
       "      <td>Premium</td>\n",
       "      <td>F</td>\n",
       "      <td>SI1</td>\n",
       "      <td>61.8</td>\n",
       "      <td>61.0</td>\n",
       "      <td>2777</td>\n",
       "      <td>5.82</td>\n",
       "      <td>5.71</td>\n",
       "      <td>3.56</td>\n",
       "    </tr>\n",
       "  </tbody>\n",
       "</table>\n",
       "</div>"
      ],
      "text/plain": [
       "      ID  carat      cut color clarity  depth  table  price     x     y     z\n",
       "195  196   0.70  Premium     E     SI1   62.7   59.0   2777  5.67  5.63  3.54\n",
       "196  197   0.70  Premium     E     SI1   61.0   57.0   2777  5.73  5.68  3.48\n",
       "197  198   0.70  Premium     E     SI1   61.0   58.0   2777  5.78  5.72  3.51\n",
       "198  199   0.70    Ideal     E     SI1   61.4   57.0   2777  5.76  5.70  3.52\n",
       "199  200   0.72  Premium     F     SI1   61.8   61.0   2777  5.82  5.71  3.56"
      ]
     },
     "execution_count": 5,
     "metadata": {},
     "output_type": "execute_result"
    }
   ],
   "source": [
    "data.tail()"
   ]
  },
  {
   "cell_type": "code",
   "execution_count": 6,
   "id": "15608f38",
   "metadata": {},
   "outputs": [
    {
     "data": {
      "text/html": [
       "<div>\n",
       "<style scoped>\n",
       "    .dataframe tbody tr th:only-of-type {\n",
       "        vertical-align: middle;\n",
       "    }\n",
       "\n",
       "    .dataframe tbody tr th {\n",
       "        vertical-align: top;\n",
       "    }\n",
       "\n",
       "    .dataframe thead th {\n",
       "        text-align: right;\n",
       "    }\n",
       "</style>\n",
       "<table border=\"1\" class=\"dataframe\">\n",
       "  <thead>\n",
       "    <tr style=\"text-align: right;\">\n",
       "      <th></th>\n",
       "      <th>ID</th>\n",
       "      <th>carat</th>\n",
       "      <th>depth</th>\n",
       "      <th>table</th>\n",
       "      <th>price</th>\n",
       "      <th>x</th>\n",
       "      <th>y</th>\n",
       "      <th>z</th>\n",
       "    </tr>\n",
       "  </thead>\n",
       "  <tbody>\n",
       "    <tr>\n",
       "      <th>count</th>\n",
       "      <td>200.000000</td>\n",
       "      <td>200.000000</td>\n",
       "      <td>200.000000</td>\n",
       "      <td>200.000000</td>\n",
       "      <td>200.00000</td>\n",
       "      <td>200.000000</td>\n",
       "      <td>200.000000</td>\n",
       "      <td>200.00000</td>\n",
       "    </tr>\n",
       "    <tr>\n",
       "      <th>mean</th>\n",
       "      <td>100.500000</td>\n",
       "      <td>0.525000</td>\n",
       "      <td>61.630000</td>\n",
       "      <td>57.736000</td>\n",
       "      <td>1717.36000</td>\n",
       "      <td>5.051450</td>\n",
       "      <td>5.058350</td>\n",
       "      <td>3.11470</td>\n",
       "    </tr>\n",
       "    <tr>\n",
       "      <th>std</th>\n",
       "      <td>57.879185</td>\n",
       "      <td>0.236866</td>\n",
       "      <td>1.609457</td>\n",
       "      <td>2.360863</td>\n",
       "      <td>1165.54816</td>\n",
       "      <td>0.833813</td>\n",
       "      <td>0.822795</td>\n",
       "      <td>0.51238</td>\n",
       "    </tr>\n",
       "    <tr>\n",
       "      <th>min</th>\n",
       "      <td>1.000000</td>\n",
       "      <td>0.200000</td>\n",
       "      <td>55.100000</td>\n",
       "      <td>53.000000</td>\n",
       "      <td>326.00000</td>\n",
       "      <td>3.790000</td>\n",
       "      <td>3.750000</td>\n",
       "      <td>2.27000</td>\n",
       "    </tr>\n",
       "    <tr>\n",
       "      <th>25%</th>\n",
       "      <td>50.750000</td>\n",
       "      <td>0.290000</td>\n",
       "      <td>60.800000</td>\n",
       "      <td>56.000000</td>\n",
       "      <td>404.00000</td>\n",
       "      <td>4.227500</td>\n",
       "      <td>4.250000</td>\n",
       "      <td>2.61750</td>\n",
       "    </tr>\n",
       "    <tr>\n",
       "      <th>50%</th>\n",
       "      <td>100.500000</td>\n",
       "      <td>0.700000</td>\n",
       "      <td>61.700000</td>\n",
       "      <td>57.000000</td>\n",
       "      <td>2760.00000</td>\n",
       "      <td>5.565000</td>\n",
       "      <td>5.580000</td>\n",
       "      <td>3.39000</td>\n",
       "    </tr>\n",
       "    <tr>\n",
       "      <th>75%</th>\n",
       "      <td>150.250000</td>\n",
       "      <td>0.720000</td>\n",
       "      <td>62.600000</td>\n",
       "      <td>59.000000</td>\n",
       "      <td>2768.00000</td>\n",
       "      <td>5.790000</td>\n",
       "      <td>5.780000</td>\n",
       "      <td>3.56000</td>\n",
       "    </tr>\n",
       "    <tr>\n",
       "      <th>max</th>\n",
       "      <td>200.000000</td>\n",
       "      <td>1.170000</td>\n",
       "      <td>66.300000</td>\n",
       "      <td>69.000000</td>\n",
       "      <td>2777.00000</td>\n",
       "      <td>6.830000</td>\n",
       "      <td>6.900000</td>\n",
       "      <td>4.13000</td>\n",
       "    </tr>\n",
       "  </tbody>\n",
       "</table>\n",
       "</div>"
      ],
      "text/plain": [
       "               ID       carat       depth       table       price           x  \\\n",
       "count  200.000000  200.000000  200.000000  200.000000   200.00000  200.000000   \n",
       "mean   100.500000    0.525000   61.630000   57.736000  1717.36000    5.051450   \n",
       "std     57.879185    0.236866    1.609457    2.360863  1165.54816    0.833813   \n",
       "min      1.000000    0.200000   55.100000   53.000000   326.00000    3.790000   \n",
       "25%     50.750000    0.290000   60.800000   56.000000   404.00000    4.227500   \n",
       "50%    100.500000    0.700000   61.700000   57.000000  2760.00000    5.565000   \n",
       "75%    150.250000    0.720000   62.600000   59.000000  2768.00000    5.790000   \n",
       "max    200.000000    1.170000   66.300000   69.000000  2777.00000    6.830000   \n",
       "\n",
       "                y          z  \n",
       "count  200.000000  200.00000  \n",
       "mean     5.058350    3.11470  \n",
       "std      0.822795    0.51238  \n",
       "min      3.750000    2.27000  \n",
       "25%      4.250000    2.61750  \n",
       "50%      5.580000    3.39000  \n",
       "75%      5.780000    3.56000  \n",
       "max      6.900000    4.13000  "
      ]
     },
     "execution_count": 6,
     "metadata": {},
     "output_type": "execute_result"
    }
   ],
   "source": [
    "data.describe()"
   ]
  },
  {
   "cell_type": "code",
   "execution_count": 7,
   "id": "6b539e3d",
   "metadata": {},
   "outputs": [
    {
     "data": {
      "text/plain": [
       "(200, 11)"
      ]
     },
     "execution_count": 7,
     "metadata": {},
     "output_type": "execute_result"
    }
   ],
   "source": [
    "data.shape"
   ]
  },
  {
   "cell_type": "code",
   "execution_count": 8,
   "id": "2df6a407",
   "metadata": {},
   "outputs": [
    {
     "name": "stdout",
     "output_type": "stream",
     "text": [
      "<class 'pandas.core.frame.DataFrame'>\n",
      "RangeIndex: 200 entries, 0 to 199\n",
      "Data columns (total 11 columns):\n",
      " #   Column   Non-Null Count  Dtype  \n",
      "---  ------   --------------  -----  \n",
      " 0   ID       200 non-null    int64  \n",
      " 1   carat    200 non-null    float64\n",
      " 2   cut      200 non-null    object \n",
      " 3   color    200 non-null    object \n",
      " 4   clarity  200 non-null    object \n",
      " 5   depth    200 non-null    float64\n",
      " 6   table    200 non-null    float64\n",
      " 7   price    200 non-null    int64  \n",
      " 8   x        200 non-null    float64\n",
      " 9   y        200 non-null    float64\n",
      " 10  z        200 non-null    float64\n",
      "dtypes: float64(6), int64(2), object(3)\n",
      "memory usage: 17.3+ KB\n"
     ]
    }
   ],
   "source": [
    "data.info()"
   ]
  },
  {
   "cell_type": "markdown",
   "id": "8af2628a",
   "metadata": {},
   "source": [
    "Basic Visulaization"
   ]
  },
  {
   "cell_type": "code",
   "execution_count": 9,
   "id": "e2c2e12b",
   "metadata": {},
   "outputs": [],
   "source": [
    "def bar_plot(col):\n",
    "    sns.countplot(data[col])"
   ]
  },
  {
   "cell_type": "code",
   "execution_count": 10,
   "id": "23b47ffc",
   "metadata": {},
   "outputs": [
    {
     "name": "stderr",
     "output_type": "stream",
     "text": [
      "C:\\Users\\Lenovo\\anaconda3\\lib\\site-packages\\seaborn\\_decorators.py:36: FutureWarning: Pass the following variable as a keyword arg: x. From version 0.12, the only valid positional argument will be `data`, and passing other arguments without an explicit keyword will result in an error or misinterpretation.\n",
      "  warnings.warn(\n"
     ]
    },
    {
     "data": {
      "image/png": "[encoded data removed]",
      "text/plain": [
       "<Figure size 432x288 with 1 Axes>"
      ]
     },
     "metadata": {
      "needs_background": "light"
     },
     "output_type": "display_data"
    }
   ],
   "source": [
    "bar_plot('cut')"
   ]
  },
  {
   "cell_type": "code",
   "execution_count": 11,
   "id": "cd8b0e37",
   "metadata": {},
   "outputs": [
    {
     "name": "stderr",
     "output_type": "stream",
     "text": [
      "C:\\Users\\Lenovo\\anaconda3\\lib\\site-packages\\seaborn\\_decorators.py:36: FutureWarning: Pass the following variable as a keyword arg: x. From version 0.12, the only valid positional argument will be `data`, and passing other arguments without an explicit keyword will result in an error or misinterpretation.\n",
      "  warnings.warn(\n"
     ]
    },
    {
     "data": {
      "image/png": "[encoded data removed]",
      "text/plain": [
       "<Figure size 432x288 with 1 Axes>"
      ]
     },
     "metadata": {
      "needs_background": "light"
     },
     "output_type": "display_data"
    }
   ],
   "source": [
    "bar_plot('color')"
   ]
  },
  {
   "cell_type": "code",
   "execution_count": 12,
   "id": "8d916fc8",
   "metadata": {},
   "outputs": [
    {
     "name": "stderr",
     "output_type": "stream",
     "text": [
      "C:\\Users\\Lenovo\\anaconda3\\lib\\site-packages\\seaborn\\_decorators.py:36: FutureWarning: Pass the following variable as a keyword arg: x. From version 0.12, the only valid positional argument will be `data`, and passing other arguments without an explicit keyword will result in an error or misinterpretation.\n",
      "  warnings.warn(\n"
     ]
    },
    {
     "data": {
      "image/png": "[encoded data removed]",
      "text/plain": [
       "<Figure size 432x288 with 1 Axes>"
      ]
     },
     "metadata": {
      "needs_background": "light"
     },
     "output_type": "display_data"
    }
   ],
   "source": [
    "bar_plot('clarity')"
   ]
  },
  {
   "cell_type": "code",
   "execution_count": 13,
   "id": "45fc434d",
   "metadata": {},
   "outputs": [],
   "source": [
    "def bar_plot2(col1,col2):\n",
    "    plt.bar(data[col1], data[col2])"
   ]
  },
  {
   "cell_type": "code",
   "execution_count": 14,
   "id": "e1784535",
   "metadata": {},
   "outputs": [
    {
     "data": {
      "image/png": "[encoded data removed]",
      "text/plain": [
       "<Figure size 432x288 with 1 Axes>"
      ]
     },
     "metadata": {
      "needs_background": "light"
     },
     "output_type": "display_data"
    }
   ],
   "source": [
    "bar_plot2('cut','carat')"
   ]
  },
  {
   "cell_type": "code",
   "execution_count": 15,
   "id": "77db61ed",
   "metadata": {},
   "outputs": [
    {
     "data": {
      "image/png": "[encoded data removed]",
      "text/plain": [
       "<Figure size 432x288 with 1 Axes>"
      ]
     },
     "metadata": {
      "needs_background": "light"
     },
     "output_type": "display_data"
    }
   ],
   "source": [
    "bar_plot2('color','carat')"
   ]
  },
  {
   "cell_type": "code",
   "execution_count": 16,
   "id": "2a731532",
   "metadata": {},
   "outputs": [
    {
     "data": {
      "image/png": "[encoded data removed]",
      "text/plain": [
       "<Figure size 432x288 with 1 Axes>"
      ]
     },
     "metadata": {
      "needs_background": "light"
     },
     "output_type": "display_data"
    }
   ],
   "source": [
    "bar_plot2('clarity','carat')"
   ]
  },
  {
   "cell_type": "code",
   "execution_count": 17,
   "id": "70e33fed",
   "metadata": {},
   "outputs": [],
   "source": [
    "def plt_(col):\n",
    "    plt.figure(figsize=(16,8))\n",
    "    plt.subplot(2,2,1)\n",
    "    sns.distplot(data[col])"
   ]
  },
  {
   "cell_type": "code",
   "execution_count": 18,
   "id": "13144e25",
   "metadata": {},
   "outputs": [
    {
     "name": "stderr",
     "output_type": "stream",
     "text": [
      "C:\\Users\\Lenovo\\anaconda3\\lib\\site-packages\\seaborn\\distributions.py:2619: FutureWarning: `distplot` is a deprecated function and will be removed in a future version. Please adapt your code to use either `displot` (a figure-level function with similar flexibility) or `histplot` (an axes-level function for histograms).\n",
      "  warnings.warn(msg, FutureWarning)\n"
     ]
    },
    {
     "data": {
      "image/png": "[encoded data removed]",
      "text/plain": [
       "<Figure size 1152x576 with 1 Axes>"
      ]
     },
     "metadata": {
      "needs_background": "light"
     },
     "output_type": "display_data"
    }
   ],
   "source": [
    "plt_('depth')"
   ]
  },
  {
   "cell_type": "code",
   "execution_count": 19,
   "id": "1827419a",
   "metadata": {
    "scrolled": true
   },
   "outputs": [
    {
     "name": "stderr",
     "output_type": "stream",
     "text": [
      "C:\\Users\\Lenovo\\anaconda3\\lib\\site-packages\\seaborn\\distributions.py:2619: FutureWarning: `distplot` is a deprecated function and will be removed in a future version. Please adapt your code to use either `displot` (a figure-level function with similar flexibility) or `histplot` (an axes-level function for histograms).\n",
      "  warnings.warn(msg, FutureWarning)\n"
     ]
    },
    {
     "data": {
      "image/png": "[encoded data removed]",
      "text/plain": [
       "<Figure size 1152x576 with 1 Axes>"
      ]
     },
     "metadata": {
      "needs_background": "light"
     },
     "output_type": "display_data"
    }
   ],
   "source": [
    "plt_('table')"
   ]
  },
  {
   "cell_type": "raw",
   "id": "4a2fd055",
   "metadata": {},
   "source": [
    "Preprocessing Steps"
   ]
  },
  {
   "cell_type": "code",
   "execution_count": 20,
   "id": "ae5fd843",
   "metadata": {},
   "outputs": [
    {
     "data": {
      "text/plain": [
       "array([1, 2, 4, 3, 5], dtype=int64)"
      ]
     },
     "execution_count": 20,
     "metadata": {},
     "output_type": "execute_result"
    }
   ],
   "source": [
    "cut={'Ideal':1,'Premium':2,'Very Good':3,'Good':4,'Fair':5}\n",
    "data.cut=[cut[i] for i in data.cut]\n",
    "data['cut'].unique()"
   ]
  },
  {
   "cell_type": "code",
   "execution_count": 21,
   "id": "e2aec1fd",
   "metadata": {},
   "outputs": [
    {
     "data": {
      "text/plain": [
       "array([2, 6, 7, 5, 3, 4, 1], dtype=int64)"
      ]
     },
     "execution_count": 21,
     "metadata": {},
     "output_type": "execute_result"
    }
   ],
   "source": [
    "color={'D':1, 'E':2, 'F':3, 'G':4, 'H':5, 'I':6, 'J':7}\n",
    "data.color=[color[i] for i in data.color]\n",
    "data['color'].unique()"
   ]
  },
  {
   "cell_type": "code",
   "execution_count": 22,
   "id": "f4addbbb",
   "metadata": {},
   "outputs": [
    {
     "data": {
      "text/plain": [
       "array([7, 6, 4, 5, 3, 2, 8], dtype=int64)"
      ]
     },
     "execution_count": 22,
     "metadata": {},
     "output_type": "execute_result"
    }
   ],
   "source": [
    "clarity={'IF':1, 'VVS1':2, 'VVS2':3, 'VS1':4, 'VS2':5, 'SI1':6,'SI2':7, 'I1':8}\n",
    "data.clarity=[clarity[i] for i in data.clarity]\n",
    "data['clarity'].unique()"
   ]
  },
  {
   "cell_type": "code",
   "execution_count": 23,
   "id": "c9b16724",
   "metadata": {},
   "outputs": [
    {
     "data": {
      "text/plain": [
       "<AxesSubplot:>"
      ]
     },
     "execution_count": 23,
     "metadata": {},
     "output_type": "execute_result"
    },
    {
     "data": {
      "image/png": "[encoded data removed]",
      "text/plain": [
       "<Figure size 1080x720 with 1 Axes>"
      ]
     },
     "metadata": {
      "needs_background": "light"
     },
     "output_type": "display_data"
    }
   ],
   "source": [
    "fig,ax=plt.subplots(figsize=(15,10))\n",
    "sns.boxplot(data=data, width=0.5,ax=ax,fliersize=3)"
   ]
  },
  {
   "cell_type": "code",
   "execution_count": 24,
   "id": "e7eac506",
   "metadata": {},
   "outputs": [],
   "source": [
    "def box_plot(a):\n",
    "    plt.figure(figsize=(15,2))\n",
    "    sns.boxplot(x=a, data=data)"
   ]
  },
  {
   "cell_type": "code",
   "execution_count": 25,
   "id": "15b39d20",
   "metadata": {},
   "outputs": [
    {
     "data": {
      "image/png": "[encoded data removed]",
      "text/plain": [
       "<Figure size 1080x144 with 1 Axes>"
      ]
     },
     "metadata": {
      "needs_background": "light"
     },
     "output_type": "display_data"
    }
   ],
   "source": [
    "box_plot('table')"
   ]
  },
  {
   "cell_type": "code",
   "execution_count": 26,
   "id": "f4b73b3f",
   "metadata": {},
   "outputs": [
    {
     "data": {
      "image/png": "[encoded data removed]",
      "text/plain": [
       "<Figure size 1080x144 with 1 Axes>"
      ]
     },
     "metadata": {
      "needs_background": "light"
     },
     "output_type": "display_data"
    }
   ],
   "source": [
    "box_plot('depth')"
   ]
  },
  {
   "cell_type": "code",
   "execution_count": 27,
   "id": "52a7c3bf",
   "metadata": {},
   "outputs": [],
   "source": [
    "def remove_up_outlier(df,column_name):\n",
    "    percentile25 = df[column_name].quantile(0.25)\n",
    "    percentile75 = df[column_name].quantile(0.75)\n",
    "    iqr=percentile75-percentile25\n",
    "    upper_limit = percentile75 + 1.5 * iqr\n",
    "    lower_limit = percentile25 - 1.5 * iqr\n",
    "    #df[df[column_name] > upper_limit]\n",
    "    #df[df[column_name] < lower_limit]\n",
    "    new_df = df[df[column_name] < upper_limit] \n",
    "    #new_df = df[df[column_name] > lower_limit]\n",
    "    df[column_name]=new_df[column_name]\n",
    "    return df.shape,df"
   ]
  },
  {
   "cell_type": "code",
   "execution_count": 28,
   "id": "0dc606d6",
   "metadata": {},
   "outputs": [],
   "source": [
    "def remove_low_outlier(df,column_name):\n",
    "    percentile25 = df[column_name].quantile(0.25)\n",
    "    percentile75 = df[column_name].quantile(0.75)\n",
    "    iqr=percentile75-percentile25\n",
    "    upper_limit = percentile75 + 1.5 * iqr\n",
    "    lower_limit = percentile25 - 1.5 * iqr\n",
    "    #df[df[column_name] > upper_limit]\n",
    "    #df[df[column_name] < lower_limit]\n",
    "    #new_df = df[df[column_name] < upper_limit] \n",
    "    new_df = df[df[column_name] > lower_limit]\n",
    "    df[column_name]=new_df[column_name]\n",
    "    return df.shape,upper_limit,lower_limit,df"
   ]
  },
  {
   "cell_type": "code",
   "execution_count": 29,
   "id": "a766a580",
   "metadata": {},
   "outputs": [
    {
     "data": {
      "text/plain": [
       "((200, 11),\n",
       "       ID  carat  cut  color  clarity  depth  table  price     x     y     z\n",
       " 0      1   0.23    1      2        7   61.5   55.0    326  3.95  3.98  2.43\n",
       " 1      2   0.21    2      2        6   59.8   61.0    326  3.89  3.84  2.31\n",
       " 2      3   0.23    4      2        4   56.9   65.0    327  4.05  4.07  2.31\n",
       " 3      4   0.29    2      6        5   62.4   58.0    334  4.20  4.23  2.63\n",
       " 4      5   0.31    4      7        7   63.3   58.0    335  4.34  4.35  2.75\n",
       " ..   ...    ...  ...    ...      ...    ...    ...    ...   ...   ...   ...\n",
       " 195  196   0.70    2      2        6   62.7   59.0   2777  5.67  5.63  3.54\n",
       " 196  197   0.70    2      2        6   61.0   57.0   2777  5.73  5.68  3.48\n",
       " 197  198   0.70    2      2        6   61.0   58.0   2777  5.78  5.72  3.51\n",
       " 198  199   0.70    1      2        6   61.4   57.0   2777  5.76  5.70  3.52\n",
       " 199  200   0.72    2      3        6   61.8   61.0   2777  5.82  5.71  3.56\n",
       " \n",
       " [200 rows x 11 columns])"
      ]
     },
     "execution_count": 29,
     "metadata": {},
     "output_type": "execute_result"
    }
   ],
   "source": [
    "remove_up_outlier(data,'depth')"
   ]
  },
  {
   "cell_type": "code",
   "execution_count": 30,
   "id": "455d4223",
   "metadata": {},
   "outputs": [
    {
     "data": {
      "text/plain": [
       "((200, 11),\n",
       " 65.30000000000001,\n",
       " 58.099999999999994,\n",
       "       ID  carat  cut  color  clarity  depth  table  price     x     y     z\n",
       " 0      1   0.23    1      2        7   61.5   55.0    326  3.95  3.98  2.43\n",
       " 1      2   0.21    2      2        6   59.8   61.0    326  3.89  3.84  2.31\n",
       " 2      3   0.23    4      2        4    NaN   65.0    327  4.05  4.07  2.31\n",
       " 3      4   0.29    2      6        5   62.4   58.0    334  4.20  4.23  2.63\n",
       " 4      5   0.31    4      7        7   63.3   58.0    335  4.34  4.35  2.75\n",
       " ..   ...    ...  ...    ...      ...    ...    ...    ...   ...   ...   ...\n",
       " 195  196   0.70    2      2        6   62.7   59.0   2777  5.67  5.63  3.54\n",
       " 196  197   0.70    2      2        6   61.0   57.0   2777  5.73  5.68  3.48\n",
       " 197  198   0.70    2      2        6   61.0   58.0   2777  5.78  5.72  3.51\n",
       " 198  199   0.70    1      2        6   61.4   57.0   2777  5.76  5.70  3.52\n",
       " 199  200   0.72    2      3        6   61.8   61.0   2777  5.82  5.71  3.56\n",
       " \n",
       " [200 rows x 11 columns])"
      ]
     },
     "execution_count": 30,
     "metadata": {},
     "output_type": "execute_result"
    }
   ],
   "source": [
    "remove_low_outlier(data,'depth')"
   ]
  },
  {
   "cell_type": "code",
   "execution_count": 31,
   "id": "d3b25877",
   "metadata": {},
   "outputs": [
    {
     "data": {
      "image/png": "[encoded data removed]",
      "text/plain": [
       "<Figure size 1080x144 with 1 Axes>"
      ]
     },
     "metadata": {
      "needs_background": "light"
     },
     "output_type": "display_data"
    }
   ],
   "source": [
    "box_plot('depth')"
   ]
  },
  {
   "cell_type": "code",
   "execution_count": 32,
   "id": "93ba31a9",
   "metadata": {},
   "outputs": [
    {
     "data": {
      "text/plain": [
       "((200, 11),\n",
       "       ID  carat  cut  color  clarity  depth  table  price     x     y     z\n",
       " 0      1   0.23    1      2        7   61.5   55.0    326  3.95  3.98  2.43\n",
       " 1      2   0.21    2      2        6   59.8   61.0    326  3.89  3.84  2.31\n",
       " 2      3   0.23    4      2        4    NaN    NaN    327  4.05  4.07  2.31\n",
       " 3      4   0.29    2      6        5   62.4   58.0    334  4.20  4.23  2.63\n",
       " 4      5   0.31    4      7        7   63.3   58.0    335  4.34  4.35  2.75\n",
       " ..   ...    ...  ...    ...      ...    ...    ...    ...   ...   ...   ...\n",
       " 195  196   0.70    2      2        6   62.7   59.0   2777  5.67  5.63  3.54\n",
       " 196  197   0.70    2      2        6   61.0   57.0   2777  5.73  5.68  3.48\n",
       " 197  198   0.70    2      2        6   61.0   58.0   2777  5.78  5.72  3.51\n",
       " 198  199   0.70    1      2        6   61.4   57.0   2777  5.76  5.70  3.52\n",
       " 199  200   0.72    2      3        6   61.8   61.0   2777  5.82  5.71  3.56\n",
       " \n",
       " [200 rows x 11 columns])"
      ]
     },
     "execution_count": 32,
     "metadata": {},
     "output_type": "execute_result"
    }
   ],
   "source": [
    "remove_up_outlier(data,'table')"
   ]
  },
  {
   "cell_type": "code",
   "execution_count": 33,
   "id": "3693cacb",
   "metadata": {},
   "outputs": [
    {
     "data": {
      "text/plain": [
       "((200, 11),\n",
       " 63.5,\n",
       " 51.5,\n",
       "       ID  carat  cut  color  clarity  depth  table  price     x     y     z\n",
       " 0      1   0.23    1      2        7   61.5   55.0    326  3.95  3.98  2.43\n",
       " 1      2   0.21    2      2        6   59.8   61.0    326  3.89  3.84  2.31\n",
       " 2      3   0.23    4      2        4    NaN    NaN    327  4.05  4.07  2.31\n",
       " 3      4   0.29    2      6        5   62.4   58.0    334  4.20  4.23  2.63\n",
       " 4      5   0.31    4      7        7   63.3   58.0    335  4.34  4.35  2.75\n",
       " ..   ...    ...  ...    ...      ...    ...    ...    ...   ...   ...   ...\n",
       " 195  196   0.70    2      2        6   62.7   59.0   2777  5.67  5.63  3.54\n",
       " 196  197   0.70    2      2        6   61.0   57.0   2777  5.73  5.68  3.48\n",
       " 197  198   0.70    2      2        6   61.0   58.0   2777  5.78  5.72  3.51\n",
       " 198  199   0.70    1      2        6   61.4   57.0   2777  5.76  5.70  3.52\n",
       " 199  200   0.72    2      3        6   61.8   61.0   2777  5.82  5.71  3.56\n",
       " \n",
       " [200 rows x 11 columns])"
      ]
     },
     "execution_count": 33,
     "metadata": {},
     "output_type": "execute_result"
    }
   ],
   "source": [
    "remove_low_outlier(data,'table')"
   ]
  },
  {
   "cell_type": "code",
   "execution_count": 34,
   "id": "27fea30f",
   "metadata": {},
   "outputs": [
    {
     "data": {
      "image/png": "[encoded data removed]",
      "text/plain": [
       "<Figure size 1080x144 with 1 Axes>"
      ]
     },
     "metadata": {
      "needs_background": "light"
     },
     "output_type": "display_data"
    }
   ],
   "source": [
    "box_plot('table')"
   ]
  },
  {
   "cell_type": "code",
   "execution_count": 35,
   "id": "a134a064",
   "metadata": {},
   "outputs": [
    {
     "name": "stdout",
     "output_type": "stream",
     "text": [
      "<class 'pandas.core.frame.DataFrame'>\n",
      "RangeIndex: 200 entries, 0 to 199\n",
      "Data columns (total 11 columns):\n",
      " #   Column   Non-Null Count  Dtype  \n",
      "---  ------   --------------  -----  \n",
      " 0   ID       200 non-null    int64  \n",
      " 1   carat    200 non-null    float64\n",
      " 2   cut      200 non-null    int64  \n",
      " 3   color    200 non-null    int64  \n",
      " 4   clarity  200 non-null    int64  \n",
      " 5   depth    192 non-null    float64\n",
      " 6   table    197 non-null    float64\n",
      " 7   price    200 non-null    int64  \n",
      " 8   x        200 non-null    float64\n",
      " 9   y        200 non-null    float64\n",
      " 10  z        200 non-null    float64\n",
      "dtypes: float64(6), int64(5)\n",
      "memory usage: 17.3 KB\n"
     ]
    }
   ],
   "source": [
    "data.info()"
   ]
  },
  {
   "cell_type": "code",
   "execution_count": 36,
   "id": "7ce9acc5",
   "metadata": {},
   "outputs": [],
   "source": [
    "data.fillna(data.median(numeric_only=True).round(1), inplace=True)"
   ]
  },
  {
   "cell_type": "code",
   "execution_count": 37,
   "id": "792b520a",
   "metadata": {},
   "outputs": [
    {
     "name": "stdout",
     "output_type": "stream",
     "text": [
      "<class 'pandas.core.frame.DataFrame'>\n",
      "RangeIndex: 200 entries, 0 to 199\n",
      "Data columns (total 11 columns):\n",
      " #   Column   Non-Null Count  Dtype  \n",
      "---  ------   --------------  -----  \n",
      " 0   ID       200 non-null    int64  \n",
      " 1   carat    200 non-null    float64\n",
      " 2   cut      200 non-null    int64  \n",
      " 3   color    200 non-null    int64  \n",
      " 4   clarity  200 non-null    int64  \n",
      " 5   depth    200 non-null    float64\n",
      " 6   table    200 non-null    float64\n",
      " 7   price    200 non-null    int64  \n",
      " 8   x        200 non-null    float64\n",
      " 9   y        200 non-null    float64\n",
      " 10  z        200 non-null    float64\n",
      "dtypes: float64(6), int64(5)\n",
      "memory usage: 17.3 KB\n"
     ]
    }
   ],
   "source": [
    "data.info()"
   ]
  },
  {
   "cell_type": "code",
   "execution_count": 38,
   "id": "e5a0338f",
   "metadata": {},
   "outputs": [
    {
     "data": {
      "text/plain": [
       "<AxesSubplot:>"
      ]
     },
     "execution_count": 38,
     "metadata": {},
     "output_type": "execute_result"
    },
    {
     "data": {
      "image/png": "[encoded data removed]",
      "text/plain": [
       "<Figure size 720x504 with 2 Axes>"
      ]
     },
     "metadata": {
      "needs_background": "light"
     },
     "output_type": "display_data"
    }
   ],
   "source": [
    "fig, ax = plt.subplots(figsize=(10,7))\n",
    "sns.heatmap(data.corr(),annot=True,cmap='Blues')"
   ]
  },
  {
   "cell_type": "code",
   "execution_count": 39,
   "id": "971802e9",
   "metadata": {},
   "outputs": [],
   "source": [
    "data=data.drop(['x','y','z'],axis=1)"
   ]
  },
  {
   "cell_type": "code",
   "execution_count": 40,
   "id": "49f9907a",
   "metadata": {},
   "outputs": [],
   "source": [
    "data[\"price_per_carat\"]=data[\"carat\"]/data[\"price\"]"
   ]
  },
  {
   "cell_type": "code",
   "execution_count": 41,
   "id": "628cb3a1",
   "metadata": {},
   "outputs": [],
   "source": [
    "data[\"price_per_depth\"]=data[\"depth\"]/data[\"price\"]"
   ]
  },
  {
   "cell_type": "code",
   "execution_count": 42,
   "id": "05bb2f14",
   "metadata": {},
   "outputs": [],
   "source": [
    "data[\"price_per_table\"]=data[\"table\"]/data[\"price\"]"
   ]
  },
  {
   "cell_type": "code",
   "execution_count": 43,
   "id": "a9bec1aa",
   "metadata": {},
   "outputs": [
    {
     "data": {
      "text/plain": [
       "<AxesSubplot:>"
      ]
     },
     "execution_count": 43,
     "metadata": {},
     "output_type": "execute_result"
    },
    {
     "data": {
      "image/png": "[encoded data removed]",
      "text/plain": [
       "<Figure size 720x504 with 2 Axes>"
      ]
     },
     "metadata": {
      "needs_background": "light"
     },
     "output_type": "display_data"
    }
   ],
   "source": [
    "fig, ax = plt.subplots(figsize=(10,7))\n",
    "sns.heatmap(data.corr(),annot=True,cmap='Blues')"
   ]
  },
  {
   "cell_type": "code",
   "execution_count": 44,
   "id": "1549a648",
   "metadata": {},
   "outputs": [],
   "source": [
    "data=data.drop(['price_per_depth','price_per_table'],axis=1)"
   ]
  },
  {
   "cell_type": "code",
   "execution_count": 45,
   "id": "484e7b65",
   "metadata": {},
   "outputs": [
    {
     "name": "stdout",
     "output_type": "stream",
     "text": [
      "<class 'pandas.core.frame.DataFrame'>\n",
      "RangeIndex: 200 entries, 0 to 199\n",
      "Data columns (total 9 columns):\n",
      " #   Column           Non-Null Count  Dtype  \n",
      "---  ------           --------------  -----  \n",
      " 0   ID               200 non-null    int64  \n",
      " 1   carat            200 non-null    float64\n",
      " 2   cut              200 non-null    int64  \n",
      " 3   color            200 non-null    int64  \n",
      " 4   clarity          200 non-null    int64  \n",
      " 5   depth            200 non-null    float64\n",
      " 6   table            200 non-null    float64\n",
      " 7   price            200 non-null    int64  \n",
      " 8   price_per_carat  200 non-null    float64\n",
      "dtypes: float64(4), int64(5)\n",
      "memory usage: 14.2 KB\n"
     ]
    }
   ],
   "source": [
    "data.info()"
   ]
  },
  {
   "cell_type": "code",
   "execution_count": 46,
   "id": "df90c6e4",
   "metadata": {},
   "outputs": [
    {
     "data": {
      "text/html": [
       "<div>\n",
       "<style scoped>\n",
       "    .dataframe tbody tr th:only-of-type {\n",
       "        vertical-align: middle;\n",
       "    }\n",
       "\n",
       "    .dataframe tbody tr th {\n",
       "        vertical-align: top;\n",
       "    }\n",
       "\n",
       "    .dataframe thead th {\n",
       "        text-align: right;\n",
       "    }\n",
       "</style>\n",
       "<table border=\"1\" class=\"dataframe\">\n",
       "  <thead>\n",
       "    <tr style=\"text-align: right;\">\n",
       "      <th></th>\n",
       "      <th>ID</th>\n",
       "      <th>carat</th>\n",
       "      <th>cut</th>\n",
       "      <th>color</th>\n",
       "      <th>clarity</th>\n",
       "      <th>depth</th>\n",
       "      <th>table</th>\n",
       "      <th>price</th>\n",
       "      <th>price_per_carat</th>\n",
       "    </tr>\n",
       "  </thead>\n",
       "  <tbody>\n",
       "    <tr>\n",
       "      <th>count</th>\n",
       "      <td>200.000000</td>\n",
       "      <td>200.000000</td>\n",
       "      <td>200.000000</td>\n",
       "      <td>200.000000</td>\n",
       "      <td>200.00000</td>\n",
       "      <td>200.000000</td>\n",
       "      <td>200.000000</td>\n",
       "      <td>200.00000</td>\n",
       "      <td>200.000000</td>\n",
       "    </tr>\n",
       "    <tr>\n",
       "      <th>mean</th>\n",
       "      <td>100.500000</td>\n",
       "      <td>0.525000</td>\n",
       "      <td>2.355000</td>\n",
       "      <td>3.485000</td>\n",
       "      <td>5.13500</td>\n",
       "      <td>61.726000</td>\n",
       "      <td>57.601000</td>\n",
       "      <td>1717.36000</td>\n",
       "      <td>0.000438</td>\n",
       "    </tr>\n",
       "    <tr>\n",
       "      <th>std</th>\n",
       "      <td>57.879185</td>\n",
       "      <td>0.236866</td>\n",
       "      <td>1.129315</td>\n",
       "      <td>1.829346</td>\n",
       "      <td>1.49262</td>\n",
       "      <td>1.329346</td>\n",
       "      <td>2.112727</td>\n",
       "      <td>1165.54816</td>\n",
       "      <td>0.000216</td>\n",
       "    </tr>\n",
       "    <tr>\n",
       "      <th>min</th>\n",
       "      <td>1.000000</td>\n",
       "      <td>0.200000</td>\n",
       "      <td>1.000000</td>\n",
       "      <td>1.000000</td>\n",
       "      <td>2.00000</td>\n",
       "      <td>58.100000</td>\n",
       "      <td>53.000000</td>\n",
       "      <td>326.00000</td>\n",
       "      <td>0.000195</td>\n",
       "    </tr>\n",
       "    <tr>\n",
       "      <th>25%</th>\n",
       "      <td>50.750000</td>\n",
       "      <td>0.290000</td>\n",
       "      <td>1.000000</td>\n",
       "      <td>2.000000</td>\n",
       "      <td>4.00000</td>\n",
       "      <td>60.900000</td>\n",
       "      <td>56.000000</td>\n",
       "      <td>404.00000</td>\n",
       "      <td>0.000257</td>\n",
       "    </tr>\n",
       "    <tr>\n",
       "      <th>50%</th>\n",
       "      <td>100.500000</td>\n",
       "      <td>0.700000</td>\n",
       "      <td>2.000000</td>\n",
       "      <td>3.000000</td>\n",
       "      <td>5.00000</td>\n",
       "      <td>61.800000</td>\n",
       "      <td>57.000000</td>\n",
       "      <td>2760.00000</td>\n",
       "      <td>0.000290</td>\n",
       "    </tr>\n",
       "    <tr>\n",
       "      <th>75%</th>\n",
       "      <td>150.250000</td>\n",
       "      <td>0.720000</td>\n",
       "      <td>3.000000</td>\n",
       "      <td>5.000000</td>\n",
       "      <td>6.00000</td>\n",
       "      <td>62.600000</td>\n",
       "      <td>59.000000</td>\n",
       "      <td>2768.00000</td>\n",
       "      <td>0.000623</td>\n",
       "    </tr>\n",
       "    <tr>\n",
       "      <th>max</th>\n",
       "      <td>200.000000</td>\n",
       "      <td>1.170000</td>\n",
       "      <td>5.000000</td>\n",
       "      <td>7.000000</td>\n",
       "      <td>8.00000</td>\n",
       "      <td>65.300000</td>\n",
       "      <td>63.000000</td>\n",
       "      <td>2777.00000</td>\n",
       "      <td>0.000928</td>\n",
       "    </tr>\n",
       "  </tbody>\n",
       "</table>\n",
       "</div>"
      ],
      "text/plain": [
       "               ID       carat         cut       color    clarity       depth  \\\n",
       "count  200.000000  200.000000  200.000000  200.000000  200.00000  200.000000   \n",
       "mean   100.500000    0.525000    2.355000    3.485000    5.13500   61.726000   \n",
       "std     57.879185    0.236866    1.129315    1.829346    1.49262    1.329346   \n",
       "min      1.000000    0.200000    1.000000    1.000000    2.00000   58.100000   \n",
       "25%     50.750000    0.290000    1.000000    2.000000    4.00000   60.900000   \n",
       "50%    100.500000    0.700000    2.000000    3.000000    5.00000   61.800000   \n",
       "75%    150.250000    0.720000    3.000000    5.000000    6.00000   62.600000   \n",
       "max    200.000000    1.170000    5.000000    7.000000    8.00000   65.300000   \n",
       "\n",
       "            table       price  price_per_carat  \n",
       "count  200.000000   200.00000       200.000000  \n",
       "mean    57.601000  1717.36000         0.000438  \n",
       "std      2.112727  1165.54816         0.000216  \n",
       "min     53.000000   326.00000         0.000195  \n",
       "25%     56.000000   404.00000         0.000257  \n",
       "50%     57.000000  2760.00000         0.000290  \n",
       "75%     59.000000  2768.00000         0.000623  \n",
       "max     63.000000  2777.00000         0.000928  "
      ]
     },
     "execution_count": 46,
     "metadata": {},
     "output_type": "execute_result"
    }
   ],
   "source": [
    "data.describe()"
   ]
  },
  {
   "cell_type": "code",
   "execution_count": 47,
   "id": "33a31e99",
   "metadata": {},
   "outputs": [
    {
     "data": {
      "text/plain": [
       "<AxesSubplot:>"
      ]
     },
     "execution_count": 47,
     "metadata": {},
     "output_type": "execute_result"
    },
    {
     "data": {
      "image/png": "[encoded data removed]",
      "text/plain": [
       "<Figure size 720x504 with 2 Axes>"
      ]
     },
     "metadata": {
      "needs_background": "light"
     },
     "output_type": "display_data"
    }
   ],
   "source": [
    "fig, ax = plt.subplots(figsize=(10,7))\n",
    "sns.heatmap(data.corr(),annot=True,cmap='Blues')"
   ]
  },
  {
   "cell_type": "code",
   "execution_count": 48,
   "id": "a96ad91b",
   "metadata": {},
   "outputs": [
    {
     "data": {
      "text/plain": [
       "'ratio = 0.8\\n\\ntotal_rows = data.shape[0]\\ntrain_size = int(total_rows*ratio)\\n\\ntrain = data[0:train_size]\\ntest = data[train_size:]\\n'"
      ]
     },
     "execution_count": 48,
     "metadata": {},
     "output_type": "execute_result"
    }
   ],
   "source": [
    "'''ratio = 0.8\n",
    "\n",
    "total_rows = data.shape[0]\n",
    "train_size = int(total_rows*ratio)\n",
    "\n",
    "train = data[0:train_size]\n",
    "test = data[train_size:]\n",
    "'''"
   ]
  },
  {
   "cell_type": "code",
   "execution_count": 49,
   "id": "044ad329",
   "metadata": {},
   "outputs": [],
   "source": [
    "train = data.sample(frac=0.8,random_state=357)\n",
    "test = data.drop(train.index)"
   ]
  },
  {
   "cell_type": "code",
   "execution_count": 50,
   "id": "b04ad853",
   "metadata": {},
   "outputs": [],
   "source": [
    "X_train = train.drop('price', axis=1)\n",
    "y_train = train['price']\n",
    "X_test = test.drop(['price'], axis=1)\n",
    "y_test = test['price']"
   ]
  },
  {
   "cell_type": "code",
   "execution_count": 51,
   "id": "2eec0b26",
   "metadata": {},
   "outputs": [
    {
     "data": {
      "text/plain": [
       "\"X_train = train.drop('price', axis=1)\\ny_train = train['price']\\nX_test = test.drop('price',axis=1)\\ny_test = test['price']\""
      ]
     },
     "execution_count": 51,
     "metadata": {},
     "output_type": "execute_result"
    }
   ],
   "source": [
    "'''X_train = train.drop('price', axis=1)\n",
    "y_train = train['price']\n",
    "X_test = test.drop('price',axis=1)\n",
    "y_test = test['price']'''"
   ]
  },
  {
   "cell_type": "code",
   "execution_count": 52,
   "id": "e80e4eeb",
   "metadata": {},
   "outputs": [],
   "source": [
    "X_train.index=range(len(X_train))\n",
    "y_train.index=range(len(y_train))\n",
    "X_test.index=range(len(X_test))\n",
    "y_test.index=range(len(y_test))"
   ]
  },
  {
   "cell_type": "code",
   "execution_count": 53,
   "id": "dd6fe89e",
   "metadata": {},
   "outputs": [],
   "source": [
    "def distNeighbours(X_train,y_train,X_test,K):\n",
    "    distance=[]\n",
    "    for i in range(len(X_train)):\n",
    "        eDistance=0\n",
    "        for j in range(len(X_train.columns)):   \n",
    "                eDistance+=round(np.sqrt(pow((X_train.iloc[i,j]-X_test[j]),2)),2)\n",
    "        distance.append((eDistance,i,y_train.iloc[i]))\n",
    "        distance=sorted(distance, key=lambda x: x[0])[0:K]\n",
    "    return distance"
   ]
  },
  {
   "cell_type": "code",
   "execution_count": 54,
   "id": "06facdca",
   "metadata": {},
   "outputs": [],
   "source": [
    "def predictOutputNumeric(X_train,y_train,X_test,K):\n",
    "    neighbours=[]\n",
    "    responses=[]\n",
    "    for i in range(len(X_test)):\n",
    "        neighbours.append(distNeighbours(X_train,y_train,X_test.iloc[i,:],K))\n",
    "    for i in neighbours:\n",
    "        mean=0\n",
    "        for j in i:\n",
    "            mean+=j[-1]\n",
    "        mean=mean/K\n",
    "        responses.append(mean)\n",
    "    return responses"
   ]
  },
  {
   "cell_type": "code",
   "execution_count": 55,
   "id": "ff73cce9",
   "metadata": {},
   "outputs": [],
   "source": [
    "def getAccuracyNumeric(actual,predicted):\n",
    "    error=0\n",
    "    for i in range(len(predicted)):\n",
    "        error+=pow((actual[i]-predicted[i]),2)\n",
    "    error=error/len(predicted)-1\n",
    "    return 100-error"
   ]
  },
  {
   "cell_type": "code",
   "execution_count": 56,
   "id": "8a09223f",
   "metadata": {},
   "outputs": [
    {
     "data": {
      "text/plain": [
       "79.75833333333333"
      ]
     },
     "execution_count": 56,
     "metadata": {},
     "output_type": "execute_result"
    }
   ],
   "source": [
    "output=predictOutputNumeric(X_train,y_train,X_test,3)\n",
    "getAccuracyNumeric(y_test,output)"
   ]
  },
  {
   "cell_type": "code",
   "execution_count": 57,
   "id": "f19deb07",
   "metadata": {},
   "outputs": [],
   "source": [
    "def r2_score(y_true, y_pred):\n",
    "    '''\n",
    "    Calculate R2 score from scratch.\n",
    "    \n",
    "    Parameters:\n",
    "        y_true (array-like): true y values.\n",
    "        y_pred (array-like): predicted y values.\n",
    "        \n",
    "    Returns:\n",
    "        r2_score (float): R2 score.\n",
    "    '''\n",
    "    import numpy as np\n",
    "    \n",
    "    # Calculate the mean of the dependent variable y\n",
    "    y_mean = np.mean(y_true)\n",
    "    \n",
    "    # Calculate the total sum of squares (TSS)\n",
    "    tss = np.sum((y_true - y_mean)**2)\n",
    "    \n",
    "    # Calculate the residual sum of squares (RSS)\n",
    "    rss = np.sum((y_true - y_pred)**2)\n",
    "    \n",
    "    # Calculate R2 score\n",
    "    r2_score = 1 - (rss / tss)\n",
    "    \n",
    "    return r2_score\n"
   ]
  },
  {
   "cell_type": "code",
   "execution_count": 58,
   "id": "d251991c",
   "metadata": {},
   "outputs": [
    {
     "data": {
      "text/plain": [
       "0.9999831259206369"
      ]
     },
     "execution_count": 58,
     "metadata": {},
     "output_type": "execute_result"
    }
   ],
   "source": [
    "r2_score(y_test, output)"
   ]
  },
  {
   "cell_type": "code",
   "execution_count": null,
   "id": "7ce31d22",
   "metadata": {},
   "outputs": [],
   "source": []
  }
 ],
 "metadata": {
  "kernelspec": {
   "display_name": "Python 3 (ipykernel)",
   "language": "python",
   "name": "python3"
  },
  "language_info": {
   "codemirror_mode": {
    "name": "ipython",
    "version": 3
   },
   "file_extension": ".py",
   "mimetype": "text/x-python",
   "name": "python",
   "nbconvert_exporter": "python",
   "pygments_lexer": "ipython3",
   "version": "3.9.7"
  }
 },
 "nbformat": 4,
 "nbformat_minor": 5
}
